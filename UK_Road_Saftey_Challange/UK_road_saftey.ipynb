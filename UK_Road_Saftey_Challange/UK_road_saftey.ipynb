{
  "nbformat": 4,
  "nbformat_minor": 0,
  "metadata": {
    "colab": {
      "provenance": []
    },
    "kernelspec": {
      "name": "python3",
      "display_name": "Python 3"
    },
    "language_info": {
      "name": "python"
    }
  },
  "cells": [
    {
      "cell_type": "code",
      "execution_count": 2,
      "metadata": {
        "id": "dwxfJRRO3iRU"
      },
      "outputs": [],
      "source": [
        "#import important python libraries\n",
        "import numpy as np\n",
        "import pandas as pd \n",
        "from matplotlib import pyplot as plt\n",
        "import seaborn as sns"
      ]
    },
    {
      "cell_type": "markdown",
      "source": [
        "Import Accident and Vehicle CSV File"
      ],
      "metadata": {
        "id": "p59Tr5KJAY7w"
      }
    },
    {
      "cell_type": "code",
      "source": [
        "vehicles = pd.read_csv('/content/Vehicles_2015.csv')"
      ],
      "metadata": {
        "id": "FcTgmy_g3xLf"
      },
      "execution_count": 24,
      "outputs": []
    },
    {
      "cell_type": "code",
      "source": [
        "Accidents= pd.read_csv('/content/Accidents_2015.csv')"
      ],
      "metadata": {
        "colab": {
          "base_uri": "https://localhost:8080/"
        },
        "id": "ieGJQmAF9cU5",
        "outputId": "63378378-0329-43a4-b5a7-64f114e1adef"
      },
      "execution_count": 29,
      "outputs": [
        {
          "output_type": "stream",
          "name": "stderr",
          "text": [
            "/usr/local/lib/python3.7/dist-packages/IPython/core/interactiveshell.py:3326: DtypeWarning: Columns (0) have mixed types.Specify dtype option on import or set low_memory=False.\n",
            "  exec(code_obj, self.user_global_ns, self.user_ns)\n"
          ]
        }
      ]
    },
    {
      "cell_type": "markdown",
      "source": [
        "Checking Total Null values in both data frame/table"
      ],
      "metadata": {
        "id": "2cLxXEYkAlJT"
      }
    },
    {
      "cell_type": "code",
      "source": [
        "vehicles.isna().sum()"
      ],
      "metadata": {
        "colab": {
          "base_uri": "https://localhost:8080/"
        },
        "id": "20zYImoEqaKv",
        "outputId": "5eb02270-5f08-4549-e706-b872e12991b4"
      },
      "execution_count": 16,
      "outputs": [
        {
          "output_type": "execute_result",
          "data": {
            "text/plain": [
              "Accident_Index                      0\n",
              "Vehicle_Reference                   0\n",
              "Vehicle_Type                        0\n",
              "Towing_and_Articulation             0\n",
              "Vehicle_Manoeuvre                   0\n",
              "Vehicle_Location-Restricted_Lane    0\n",
              "Junction_Location                   0\n",
              "Skidding_and_Overturning            0\n",
              "Hit_Object_in_Carriageway           0\n",
              "Vehicle_Leaving_Carriageway         0\n",
              "Hit_Object_off_Carriageway          0\n",
              "1st_Point_of_Impact                 0\n",
              "Was_Vehicle_Left_Hand_Drive?        0\n",
              "Journey_Purpose_of_Driver           0\n",
              "Sex_of_Driver                       0\n",
              "Age_of_Driver                       0\n",
              "Age_Band_of_Driver                  0\n",
              "Engine_Capacity_(CC)                0\n",
              "Propulsion_Code                     0\n",
              "Age_of_Vehicle                      0\n",
              "Driver_IMD_Decile                   0\n",
              "Driver_Home_Area_Type               0\n",
              "Vehicle_IMD_Decile                  0\n",
              "dtype: int64"
            ]
          },
          "metadata": {},
          "execution_count": 16
        }
      ]
    },
    {
      "cell_type": "code",
      "source": [
        "vehicles.head()"
      ],
      "metadata": {
        "colab": {
          "base_uri": "https://localhost:8080/",
          "height": 317
        },
        "id": "B9xqCZWxJppW",
        "outputId": "8d9a3338-5806-43e4-ff54-4ce506f8f568"
      },
      "execution_count": 26,
      "outputs": [
        {
          "output_type": "execute_result",
          "data": {
            "text/plain": [
              "  Accident_Index  Vehicle_Reference  Vehicle_Type  Towing_and_Articulation  \\\n",
              "0  201506E098757                  2             9                        0   \n",
              "1  201506E098766                  1             9                        0   \n",
              "2  201506E098766                  2             9                        0   \n",
              "3  201506E098777                  1            20                        0   \n",
              "4  201506E098780                  1             9                        0   \n",
              "\n",
              "   Vehicle_Manoeuvre  Vehicle_Location-Restricted_Lane  Junction_Location  \\\n",
              "0                 18                                 0                  8   \n",
              "1                  9                                 0                  8   \n",
              "2                 18                                 0                  8   \n",
              "3                  4                                 0                  0   \n",
              "4                 15                                 0                  1   \n",
              "\n",
              "   Skidding_and_Overturning  Hit_Object_in_Carriageway  \\\n",
              "0                         0                          0   \n",
              "1                         0                          0   \n",
              "2                         0                          0   \n",
              "3                         0                          0   \n",
              "4                         0                          0   \n",
              "\n",
              "   Vehicle_Leaving_Carriageway  ...  Journey_Purpose_of_Driver  Sex_of_Driver  \\\n",
              "0                            0  ...                          6              1   \n",
              "1                            0  ...                          6              2   \n",
              "2                            0  ...                          6              1   \n",
              "3                            0  ...                          1              1   \n",
              "4                            0  ...                          6              1   \n",
              "\n",
              "   Age_of_Driver  Age_Band_of_Driver  Engine_Capacity_(CC)  Propulsion_Code  \\\n",
              "0             45                   7                  1794                1   \n",
              "1             25                   5                  1582                2   \n",
              "2             51                   8                    -1               -1   \n",
              "3             50                   8                  4462                2   \n",
              "4             27                   6                  1598                2   \n",
              "\n",
              "   Age_of_Vehicle  Driver_IMD_Decile  Driver_Home_Area_Type  \\\n",
              "0              11                 -1                      1   \n",
              "1               1                 -1                     -1   \n",
              "2              -1                 -1                      1   \n",
              "3               1                 -1                      1   \n",
              "4              -1                 -1                      1   \n",
              "\n",
              "   Vehicle_IMD_Decile  \n",
              "0                  -1  \n",
              "1                  -1  \n",
              "2                  -1  \n",
              "3                  -1  \n",
              "4                  -1  \n",
              "\n",
              "[5 rows x 23 columns]"
            ],
            "text/html": [
              "\n",
              "  <div id=\"df-a974f6f3-b441-4bb2-a509-084f958583e9\">\n",
              "    <div class=\"colab-df-container\">\n",
              "      <div>\n",
              "<style scoped>\n",
              "    .dataframe tbody tr th:only-of-type {\n",
              "        vertical-align: middle;\n",
              "    }\n",
              "\n",
              "    .dataframe tbody tr th {\n",
              "        vertical-align: top;\n",
              "    }\n",
              "\n",
              "    .dataframe thead th {\n",
              "        text-align: right;\n",
              "    }\n",
              "</style>\n",
              "<table border=\"1\" class=\"dataframe\">\n",
              "  <thead>\n",
              "    <tr style=\"text-align: right;\">\n",
              "      <th></th>\n",
              "      <th>Accident_Index</th>\n",
              "      <th>Vehicle_Reference</th>\n",
              "      <th>Vehicle_Type</th>\n",
              "      <th>Towing_and_Articulation</th>\n",
              "      <th>Vehicle_Manoeuvre</th>\n",
              "      <th>Vehicle_Location-Restricted_Lane</th>\n",
              "      <th>Junction_Location</th>\n",
              "      <th>Skidding_and_Overturning</th>\n",
              "      <th>Hit_Object_in_Carriageway</th>\n",
              "      <th>Vehicle_Leaving_Carriageway</th>\n",
              "      <th>...</th>\n",
              "      <th>Journey_Purpose_of_Driver</th>\n",
              "      <th>Sex_of_Driver</th>\n",
              "      <th>Age_of_Driver</th>\n",
              "      <th>Age_Band_of_Driver</th>\n",
              "      <th>Engine_Capacity_(CC)</th>\n",
              "      <th>Propulsion_Code</th>\n",
              "      <th>Age_of_Vehicle</th>\n",
              "      <th>Driver_IMD_Decile</th>\n",
              "      <th>Driver_Home_Area_Type</th>\n",
              "      <th>Vehicle_IMD_Decile</th>\n",
              "    </tr>\n",
              "  </thead>\n",
              "  <tbody>\n",
              "    <tr>\n",
              "      <th>0</th>\n",
              "      <td>201506E098757</td>\n",
              "      <td>2</td>\n",
              "      <td>9</td>\n",
              "      <td>0</td>\n",
              "      <td>18</td>\n",
              "      <td>0</td>\n",
              "      <td>8</td>\n",
              "      <td>0</td>\n",
              "      <td>0</td>\n",
              "      <td>0</td>\n",
              "      <td>...</td>\n",
              "      <td>6</td>\n",
              "      <td>1</td>\n",
              "      <td>45</td>\n",
              "      <td>7</td>\n",
              "      <td>1794</td>\n",
              "      <td>1</td>\n",
              "      <td>11</td>\n",
              "      <td>-1</td>\n",
              "      <td>1</td>\n",
              "      <td>-1</td>\n",
              "    </tr>\n",
              "    <tr>\n",
              "      <th>1</th>\n",
              "      <td>201506E098766</td>\n",
              "      <td>1</td>\n",
              "      <td>9</td>\n",
              "      <td>0</td>\n",
              "      <td>9</td>\n",
              "      <td>0</td>\n",
              "      <td>8</td>\n",
              "      <td>0</td>\n",
              "      <td>0</td>\n",
              "      <td>0</td>\n",
              "      <td>...</td>\n",
              "      <td>6</td>\n",
              "      <td>2</td>\n",
              "      <td>25</td>\n",
              "      <td>5</td>\n",
              "      <td>1582</td>\n",
              "      <td>2</td>\n",
              "      <td>1</td>\n",
              "      <td>-1</td>\n",
              "      <td>-1</td>\n",
              "      <td>-1</td>\n",
              "    </tr>\n",
              "    <tr>\n",
              "      <th>2</th>\n",
              "      <td>201506E098766</td>\n",
              "      <td>2</td>\n",
              "      <td>9</td>\n",
              "      <td>0</td>\n",
              "      <td>18</td>\n",
              "      <td>0</td>\n",
              "      <td>8</td>\n",
              "      <td>0</td>\n",
              "      <td>0</td>\n",
              "      <td>0</td>\n",
              "      <td>...</td>\n",
              "      <td>6</td>\n",
              "      <td>1</td>\n",
              "      <td>51</td>\n",
              "      <td>8</td>\n",
              "      <td>-1</td>\n",
              "      <td>-1</td>\n",
              "      <td>-1</td>\n",
              "      <td>-1</td>\n",
              "      <td>1</td>\n",
              "      <td>-1</td>\n",
              "    </tr>\n",
              "    <tr>\n",
              "      <th>3</th>\n",
              "      <td>201506E098777</td>\n",
              "      <td>1</td>\n",
              "      <td>20</td>\n",
              "      <td>0</td>\n",
              "      <td>4</td>\n",
              "      <td>0</td>\n",
              "      <td>0</td>\n",
              "      <td>0</td>\n",
              "      <td>0</td>\n",
              "      <td>0</td>\n",
              "      <td>...</td>\n",
              "      <td>1</td>\n",
              "      <td>1</td>\n",
              "      <td>50</td>\n",
              "      <td>8</td>\n",
              "      <td>4462</td>\n",
              "      <td>2</td>\n",
              "      <td>1</td>\n",
              "      <td>-1</td>\n",
              "      <td>1</td>\n",
              "      <td>-1</td>\n",
              "    </tr>\n",
              "    <tr>\n",
              "      <th>4</th>\n",
              "      <td>201506E098780</td>\n",
              "      <td>1</td>\n",
              "      <td>9</td>\n",
              "      <td>0</td>\n",
              "      <td>15</td>\n",
              "      <td>0</td>\n",
              "      <td>1</td>\n",
              "      <td>0</td>\n",
              "      <td>0</td>\n",
              "      <td>0</td>\n",
              "      <td>...</td>\n",
              "      <td>6</td>\n",
              "      <td>1</td>\n",
              "      <td>27</td>\n",
              "      <td>6</td>\n",
              "      <td>1598</td>\n",
              "      <td>2</td>\n",
              "      <td>-1</td>\n",
              "      <td>-1</td>\n",
              "      <td>1</td>\n",
              "      <td>-1</td>\n",
              "    </tr>\n",
              "  </tbody>\n",
              "</table>\n",
              "<p>5 rows × 23 columns</p>\n",
              "</div>\n",
              "      <button class=\"colab-df-convert\" onclick=\"convertToInteractive('df-a974f6f3-b441-4bb2-a509-084f958583e9')\"\n",
              "              title=\"Convert this dataframe to an interactive table.\"\n",
              "              style=\"display:none;\">\n",
              "        \n",
              "  <svg xmlns=\"http://www.w3.org/2000/svg\" height=\"24px\"viewBox=\"0 0 24 24\"\n",
              "       width=\"24px\">\n",
              "    <path d=\"M0 0h24v24H0V0z\" fill=\"none\"/>\n",
              "    <path d=\"M18.56 5.44l.94 2.06.94-2.06 2.06-.94-2.06-.94-.94-2.06-.94 2.06-2.06.94zm-11 1L8.5 8.5l.94-2.06 2.06-.94-2.06-.94L8.5 2.5l-.94 2.06-2.06.94zm10 10l.94 2.06.94-2.06 2.06-.94-2.06-.94-.94-2.06-.94 2.06-2.06.94z\"/><path d=\"M17.41 7.96l-1.37-1.37c-.4-.4-.92-.59-1.43-.59-.52 0-1.04.2-1.43.59L10.3 9.45l-7.72 7.72c-.78.78-.78 2.05 0 2.83L4 21.41c.39.39.9.59 1.41.59.51 0 1.02-.2 1.41-.59l7.78-7.78 2.81-2.81c.8-.78.8-2.07 0-2.86zM5.41 20L4 18.59l7.72-7.72 1.47 1.35L5.41 20z\"/>\n",
              "  </svg>\n",
              "      </button>\n",
              "      \n",
              "  <style>\n",
              "    .colab-df-container {\n",
              "      display:flex;\n",
              "      flex-wrap:wrap;\n",
              "      gap: 12px;\n",
              "    }\n",
              "\n",
              "    .colab-df-convert {\n",
              "      background-color: #E8F0FE;\n",
              "      border: none;\n",
              "      border-radius: 50%;\n",
              "      cursor: pointer;\n",
              "      display: none;\n",
              "      fill: #1967D2;\n",
              "      height: 32px;\n",
              "      padding: 0 0 0 0;\n",
              "      width: 32px;\n",
              "    }\n",
              "\n",
              "    .colab-df-convert:hover {\n",
              "      background-color: #E2EBFA;\n",
              "      box-shadow: 0px 1px 2px rgba(60, 64, 67, 0.3), 0px 1px 3px 1px rgba(60, 64, 67, 0.15);\n",
              "      fill: #174EA6;\n",
              "    }\n",
              "\n",
              "    [theme=dark] .colab-df-convert {\n",
              "      background-color: #3B4455;\n",
              "      fill: #D2E3FC;\n",
              "    }\n",
              "\n",
              "    [theme=dark] .colab-df-convert:hover {\n",
              "      background-color: #434B5C;\n",
              "      box-shadow: 0px 1px 3px 1px rgba(0, 0, 0, 0.15);\n",
              "      filter: drop-shadow(0px 1px 2px rgba(0, 0, 0, 0.3));\n",
              "      fill: #FFFFFF;\n",
              "    }\n",
              "  </style>\n",
              "\n",
              "      <script>\n",
              "        const buttonEl =\n",
              "          document.querySelector('#df-a974f6f3-b441-4bb2-a509-084f958583e9 button.colab-df-convert');\n",
              "        buttonEl.style.display =\n",
              "          google.colab.kernel.accessAllowed ? 'block' : 'none';\n",
              "\n",
              "        async function convertToInteractive(key) {\n",
              "          const element = document.querySelector('#df-a974f6f3-b441-4bb2-a509-084f958583e9');\n",
              "          const dataTable =\n",
              "            await google.colab.kernel.invokeFunction('convertToInteractive',\n",
              "                                                     [key], {});\n",
              "          if (!dataTable) return;\n",
              "\n",
              "          const docLinkHtml = 'Like what you see? Visit the ' +\n",
              "            '<a target=\"_blank\" href=https://colab.research.google.com/notebooks/data_table.ipynb>data table notebook</a>'\n",
              "            + ' to learn more about interactive tables.';\n",
              "          element.innerHTML = '';\n",
              "          dataTable['output_type'] = 'display_data';\n",
              "          await google.colab.output.renderOutput(dataTable, element);\n",
              "          const docLink = document.createElement('div');\n",
              "          docLink.innerHTML = docLinkHtml;\n",
              "          element.appendChild(docLink);\n",
              "        }\n",
              "      </script>\n",
              "    </div>\n",
              "  </div>\n",
              "  "
            ]
          },
          "metadata": {},
          "execution_count": 26
        }
      ]
    },
    {
      "cell_type": "code",
      "source": [
        "\n",
        "Accidents.isna().sum()"
      ],
      "metadata": {
        "colab": {
          "base_uri": "https://localhost:8080/"
        },
        "id": "OzvoTAo756kw",
        "outputId": "3a8c0824-89af-40fa-b861-9b5ee5e204dd"
      },
      "execution_count": 6,
      "outputs": [
        {
          "output_type": "execute_result",
          "data": {
            "text/plain": [
              "Accident_Index                                    0\n",
              "Location_Easting_OSGR                            27\n",
              "Location_Northing_OSGR                           27\n",
              "Longitude                                        27\n",
              "Latitude                                         27\n",
              "Police_Force                                      0\n",
              "Accident_Severity                                 0\n",
              "Number_of_Vehicles                                0\n",
              "Number_of_Casualties                              0\n",
              "Date                                              0\n",
              "Day_of_Week                                       0\n",
              "Time                                             18\n",
              "Local_Authority_(District)                        0\n",
              "Local_Authority_(Highway)                         0\n",
              "1st_Road_Class                                    0\n",
              "1st_Road_Number                                   0\n",
              "Road_Type                                         0\n",
              "Speed_limit                                       0\n",
              "Junction_Detail                                   0\n",
              "Junction_Control                                  0\n",
              "2nd_Road_Class                                    0\n",
              "2nd_Road_Number                                   0\n",
              "Pedestrian_Crossing-Human_Control                 0\n",
              "Pedestrian_Crossing-Physical_Facilities           0\n",
              "Light_Conditions                                  0\n",
              "Weather_Conditions                                0\n",
              "Road_Surface_Conditions                           0\n",
              "Special_Conditions_at_Site                        0\n",
              "Carriageway_Hazards                               0\n",
              "Urban_or_Rural_Area                               0\n",
              "Did_Police_Officer_Attend_Scene_of_Accident       0\n",
              "LSOA_of_Accident_Location                      8897\n",
              "dtype: int64"
            ]
          },
          "metadata": {},
          "execution_count": 6
        }
      ]
    },
    {
      "cell_type": "code",
      "source": [
        "Accidents.head()"
      ],
      "metadata": {
        "colab": {
          "base_uri": "https://localhost:8080/",
          "height": 317
        },
        "id": "c5rJ5QG0BiAP",
        "outputId": "d390ae57-d59d-49f4-af0e-c93f012b0d81"
      },
      "execution_count": 30,
      "outputs": [
        {
          "output_type": "execute_result",
          "data": {
            "text/plain": [
              "  Accident_Index  Location_Easting_OSGR  Location_Northing_OSGR  Longitude  \\\n",
              "0  201501BS70001               525130.0                180050.0  -0.198465   \n",
              "1  201501BS70002               526530.0                178560.0  -0.178838   \n",
              "2  201501BS70004               524610.0                181080.0  -0.205590   \n",
              "3  201501BS70005               524420.0                181080.0  -0.208327   \n",
              "4  201501BS70008               524630.0                179040.0  -0.206022   \n",
              "\n",
              "    Latitude  Police_Force  Accident_Severity  Number_of_Vehicles  \\\n",
              "0  51.505538             1                  3                   1   \n",
              "1  51.491836             1                  3                   1   \n",
              "2  51.514910             1                  3                   1   \n",
              "3  51.514952             1                  3                   1   \n",
              "4  51.496572             1                  2                   2   \n",
              "\n",
              "   Number_of_Casualties        Date  ...  Pedestrian_Crossing-Human_Control  \\\n",
              "0                     1  12/01/2015  ...                                  0   \n",
              "1                     1  12/01/2015  ...                                  0   \n",
              "2                     1  12/01/2015  ...                                  0   \n",
              "3                     1  13/01/2015  ...                                  0   \n",
              "4                     1  09/01/2015  ...                                  0   \n",
              "\n",
              "  Pedestrian_Crossing-Physical_Facilities  Light_Conditions  \\\n",
              "0                                       0                 4   \n",
              "1                                       0                 1   \n",
              "2                                       1                 4   \n",
              "3                                       0                 1   \n",
              "4                                       5                 1   \n",
              "\n",
              "  Weather_Conditions  Road_Surface_Conditions  Special_Conditions_at_Site  \\\n",
              "0                  1                        1                           0   \n",
              "1                  1                        1                           0   \n",
              "2                  2                        2                           0   \n",
              "3                  1                        2                           0   \n",
              "4                  2                        2                           0   \n",
              "\n",
              "   Carriageway_Hazards  Urban_or_Rural_Area  \\\n",
              "0                    0                    1   \n",
              "1                    0                    1   \n",
              "2                    0                    1   \n",
              "3                    0                    1   \n",
              "4                    0                    1   \n",
              "\n",
              "   Did_Police_Officer_Attend_Scene_of_Accident  LSOA_of_Accident_Location  \n",
              "0                                            1                  E01002825  \n",
              "1                                            1                  E01002820  \n",
              "2                                            1                  E01002833  \n",
              "3                                            2                  E01002874  \n",
              "4                                            2                  E01002814  \n",
              "\n",
              "[5 rows x 32 columns]"
            ],
            "text/html": [
              "\n",
              "  <div id=\"df-e02bc7bf-cb81-41d4-a869-a5aef6fc4689\">\n",
              "    <div class=\"colab-df-container\">\n",
              "      <div>\n",
              "<style scoped>\n",
              "    .dataframe tbody tr th:only-of-type {\n",
              "        vertical-align: middle;\n",
              "    }\n",
              "\n",
              "    .dataframe tbody tr th {\n",
              "        vertical-align: top;\n",
              "    }\n",
              "\n",
              "    .dataframe thead th {\n",
              "        text-align: right;\n",
              "    }\n",
              "</style>\n",
              "<table border=\"1\" class=\"dataframe\">\n",
              "  <thead>\n",
              "    <tr style=\"text-align: right;\">\n",
              "      <th></th>\n",
              "      <th>Accident_Index</th>\n",
              "      <th>Location_Easting_OSGR</th>\n",
              "      <th>Location_Northing_OSGR</th>\n",
              "      <th>Longitude</th>\n",
              "      <th>Latitude</th>\n",
              "      <th>Police_Force</th>\n",
              "      <th>Accident_Severity</th>\n",
              "      <th>Number_of_Vehicles</th>\n",
              "      <th>Number_of_Casualties</th>\n",
              "      <th>Date</th>\n",
              "      <th>...</th>\n",
              "      <th>Pedestrian_Crossing-Human_Control</th>\n",
              "      <th>Pedestrian_Crossing-Physical_Facilities</th>\n",
              "      <th>Light_Conditions</th>\n",
              "      <th>Weather_Conditions</th>\n",
              "      <th>Road_Surface_Conditions</th>\n",
              "      <th>Special_Conditions_at_Site</th>\n",
              "      <th>Carriageway_Hazards</th>\n",
              "      <th>Urban_or_Rural_Area</th>\n",
              "      <th>Did_Police_Officer_Attend_Scene_of_Accident</th>\n",
              "      <th>LSOA_of_Accident_Location</th>\n",
              "    </tr>\n",
              "  </thead>\n",
              "  <tbody>\n",
              "    <tr>\n",
              "      <th>0</th>\n",
              "      <td>201501BS70001</td>\n",
              "      <td>525130.0</td>\n",
              "      <td>180050.0</td>\n",
              "      <td>-0.198465</td>\n",
              "      <td>51.505538</td>\n",
              "      <td>1</td>\n",
              "      <td>3</td>\n",
              "      <td>1</td>\n",
              "      <td>1</td>\n",
              "      <td>12/01/2015</td>\n",
              "      <td>...</td>\n",
              "      <td>0</td>\n",
              "      <td>0</td>\n",
              "      <td>4</td>\n",
              "      <td>1</td>\n",
              "      <td>1</td>\n",
              "      <td>0</td>\n",
              "      <td>0</td>\n",
              "      <td>1</td>\n",
              "      <td>1</td>\n",
              "      <td>E01002825</td>\n",
              "    </tr>\n",
              "    <tr>\n",
              "      <th>1</th>\n",
              "      <td>201501BS70002</td>\n",
              "      <td>526530.0</td>\n",
              "      <td>178560.0</td>\n",
              "      <td>-0.178838</td>\n",
              "      <td>51.491836</td>\n",
              "      <td>1</td>\n",
              "      <td>3</td>\n",
              "      <td>1</td>\n",
              "      <td>1</td>\n",
              "      <td>12/01/2015</td>\n",
              "      <td>...</td>\n",
              "      <td>0</td>\n",
              "      <td>0</td>\n",
              "      <td>1</td>\n",
              "      <td>1</td>\n",
              "      <td>1</td>\n",
              "      <td>0</td>\n",
              "      <td>0</td>\n",
              "      <td>1</td>\n",
              "      <td>1</td>\n",
              "      <td>E01002820</td>\n",
              "    </tr>\n",
              "    <tr>\n",
              "      <th>2</th>\n",
              "      <td>201501BS70004</td>\n",
              "      <td>524610.0</td>\n",
              "      <td>181080.0</td>\n",
              "      <td>-0.205590</td>\n",
              "      <td>51.514910</td>\n",
              "      <td>1</td>\n",
              "      <td>3</td>\n",
              "      <td>1</td>\n",
              "      <td>1</td>\n",
              "      <td>12/01/2015</td>\n",
              "      <td>...</td>\n",
              "      <td>0</td>\n",
              "      <td>1</td>\n",
              "      <td>4</td>\n",
              "      <td>2</td>\n",
              "      <td>2</td>\n",
              "      <td>0</td>\n",
              "      <td>0</td>\n",
              "      <td>1</td>\n",
              "      <td>1</td>\n",
              "      <td>E01002833</td>\n",
              "    </tr>\n",
              "    <tr>\n",
              "      <th>3</th>\n",
              "      <td>201501BS70005</td>\n",
              "      <td>524420.0</td>\n",
              "      <td>181080.0</td>\n",
              "      <td>-0.208327</td>\n",
              "      <td>51.514952</td>\n",
              "      <td>1</td>\n",
              "      <td>3</td>\n",
              "      <td>1</td>\n",
              "      <td>1</td>\n",
              "      <td>13/01/2015</td>\n",
              "      <td>...</td>\n",
              "      <td>0</td>\n",
              "      <td>0</td>\n",
              "      <td>1</td>\n",
              "      <td>1</td>\n",
              "      <td>2</td>\n",
              "      <td>0</td>\n",
              "      <td>0</td>\n",
              "      <td>1</td>\n",
              "      <td>2</td>\n",
              "      <td>E01002874</td>\n",
              "    </tr>\n",
              "    <tr>\n",
              "      <th>4</th>\n",
              "      <td>201501BS70008</td>\n",
              "      <td>524630.0</td>\n",
              "      <td>179040.0</td>\n",
              "      <td>-0.206022</td>\n",
              "      <td>51.496572</td>\n",
              "      <td>1</td>\n",
              "      <td>2</td>\n",
              "      <td>2</td>\n",
              "      <td>1</td>\n",
              "      <td>09/01/2015</td>\n",
              "      <td>...</td>\n",
              "      <td>0</td>\n",
              "      <td>5</td>\n",
              "      <td>1</td>\n",
              "      <td>2</td>\n",
              "      <td>2</td>\n",
              "      <td>0</td>\n",
              "      <td>0</td>\n",
              "      <td>1</td>\n",
              "      <td>2</td>\n",
              "      <td>E01002814</td>\n",
              "    </tr>\n",
              "  </tbody>\n",
              "</table>\n",
              "<p>5 rows × 32 columns</p>\n",
              "</div>\n",
              "      <button class=\"colab-df-convert\" onclick=\"convertToInteractive('df-e02bc7bf-cb81-41d4-a869-a5aef6fc4689')\"\n",
              "              title=\"Convert this dataframe to an interactive table.\"\n",
              "              style=\"display:none;\">\n",
              "        \n",
              "  <svg xmlns=\"http://www.w3.org/2000/svg\" height=\"24px\"viewBox=\"0 0 24 24\"\n",
              "       width=\"24px\">\n",
              "    <path d=\"M0 0h24v24H0V0z\" fill=\"none\"/>\n",
              "    <path d=\"M18.56 5.44l.94 2.06.94-2.06 2.06-.94-2.06-.94-.94-2.06-.94 2.06-2.06.94zm-11 1L8.5 8.5l.94-2.06 2.06-.94-2.06-.94L8.5 2.5l-.94 2.06-2.06.94zm10 10l.94 2.06.94-2.06 2.06-.94-2.06-.94-.94-2.06-.94 2.06-2.06.94z\"/><path d=\"M17.41 7.96l-1.37-1.37c-.4-.4-.92-.59-1.43-.59-.52 0-1.04.2-1.43.59L10.3 9.45l-7.72 7.72c-.78.78-.78 2.05 0 2.83L4 21.41c.39.39.9.59 1.41.59.51 0 1.02-.2 1.41-.59l7.78-7.78 2.81-2.81c.8-.78.8-2.07 0-2.86zM5.41 20L4 18.59l7.72-7.72 1.47 1.35L5.41 20z\"/>\n",
              "  </svg>\n",
              "      </button>\n",
              "      \n",
              "  <style>\n",
              "    .colab-df-container {\n",
              "      display:flex;\n",
              "      flex-wrap:wrap;\n",
              "      gap: 12px;\n",
              "    }\n",
              "\n",
              "    .colab-df-convert {\n",
              "      background-color: #E8F0FE;\n",
              "      border: none;\n",
              "      border-radius: 50%;\n",
              "      cursor: pointer;\n",
              "      display: none;\n",
              "      fill: #1967D2;\n",
              "      height: 32px;\n",
              "      padding: 0 0 0 0;\n",
              "      width: 32px;\n",
              "    }\n",
              "\n",
              "    .colab-df-convert:hover {\n",
              "      background-color: #E2EBFA;\n",
              "      box-shadow: 0px 1px 2px rgba(60, 64, 67, 0.3), 0px 1px 3px 1px rgba(60, 64, 67, 0.15);\n",
              "      fill: #174EA6;\n",
              "    }\n",
              "\n",
              "    [theme=dark] .colab-df-convert {\n",
              "      background-color: #3B4455;\n",
              "      fill: #D2E3FC;\n",
              "    }\n",
              "\n",
              "    [theme=dark] .colab-df-convert:hover {\n",
              "      background-color: #434B5C;\n",
              "      box-shadow: 0px 1px 3px 1px rgba(0, 0, 0, 0.15);\n",
              "      filter: drop-shadow(0px 1px 2px rgba(0, 0, 0, 0.3));\n",
              "      fill: #FFFFFF;\n",
              "    }\n",
              "  </style>\n",
              "\n",
              "      <script>\n",
              "        const buttonEl =\n",
              "          document.querySelector('#df-e02bc7bf-cb81-41d4-a869-a5aef6fc4689 button.colab-df-convert');\n",
              "        buttonEl.style.display =\n",
              "          google.colab.kernel.accessAllowed ? 'block' : 'none';\n",
              "\n",
              "        async function convertToInteractive(key) {\n",
              "          const element = document.querySelector('#df-e02bc7bf-cb81-41d4-a869-a5aef6fc4689');\n",
              "          const dataTable =\n",
              "            await google.colab.kernel.invokeFunction('convertToInteractive',\n",
              "                                                     [key], {});\n",
              "          if (!dataTable) return;\n",
              "\n",
              "          const docLinkHtml = 'Like what you see? Visit the ' +\n",
              "            '<a target=\"_blank\" href=https://colab.research.google.com/notebooks/data_table.ipynb>data table notebook</a>'\n",
              "            + ' to learn more about interactive tables.';\n",
              "          element.innerHTML = '';\n",
              "          dataTable['output_type'] = 'display_data';\n",
              "          await google.colab.output.renderOutput(dataTable, element);\n",
              "          const docLink = document.createElement('div');\n",
              "          docLink.innerHTML = docLinkHtml;\n",
              "          element.appendChild(docLink);\n",
              "        }\n",
              "      </script>\n",
              "    </div>\n",
              "  </div>\n",
              "  "
            ]
          },
          "metadata": {},
          "execution_count": 30
        }
      ]
    },
    {
      "cell_type": "code",
      "source": [
        "#Accidents dataframe don't have any missing values but df1 having some missing values in some columns \n",
        "#replacing missing values from data frame\n",
        "Accidents['Location_Easting_OSGR'].fillna(df1['Location_Easting_OSGR'].mean(),inplace =True)\n",
        "Accidents['Location_Northing_OSGR'].fillna(df1['Location_Northing_OSGR'].mean(),inplace =True)\n",
        "Accidents['Longitude'].fillna(df1['Longitude'].mean(),inplace =True)\n",
        "Accidents['Latitude'].fillna(df1['Latitude'].mean(),inplace =True)\n",
        "Accidents['Date'].fillna(df1['Date'].mode(),inplace =True)\n"
      ],
      "metadata": {
        "id": "2RPNMwK159kw"
      },
      "execution_count": null,
      "outputs": []
    },
    {
      "cell_type": "code",
      "source": [],
      "metadata": {
        "id": "GJdXGMEmE5Ik"
      },
      "execution_count": null,
      "outputs": []
    },
    {
      "cell_type": "code",
      "source": [
        "# dropping irrelevant column\n",
        "Accidents.drop(columns ='LSOA_of_Accident_Location' ,inplace = True)"
      ],
      "metadata": {
        "id": "W1CJdSLDEdQo"
      },
      "execution_count": null,
      "outputs": []
    },
    {
      "cell_type": "code",
      "source": [
        "#checking total number of missing values in each column after cleaning of data\n",
        "\n",
        "Accidents.isna().sum()"
      ],
      "metadata": {
        "colab": {
          "base_uri": "https://localhost:8080/"
        },
        "id": "O2dpDewXB_RB",
        "outputId": "a26f844a-c567-4132-9b2c-53401f329e33"
      },
      "execution_count": null,
      "outputs": [
        {
          "output_type": "execute_result",
          "data": {
            "text/plain": [
              "Accident_Index                                 0\n",
              "Location_Easting_OSGR                          0\n",
              "Location_Northing_OSGR                         0\n",
              "Longitude                                      0\n",
              "Latitude                                       0\n",
              "Police_Force                                   0\n",
              "Accident_Severity                              0\n",
              "Number_of_Vehicles                             0\n",
              "Number_of_Casualties                           0\n",
              "Date                                           0\n",
              "Day_of_Week                                    0\n",
              "Local_Authority_(District)                     0\n",
              "Local_Authority_(Highway)                      0\n",
              "1st_Road_Class                                 0\n",
              "1st_Road_Number                                0\n",
              "Road_Type                                      0\n",
              "Speed_limit                                    0\n",
              "Junction_Detail                                0\n",
              "Junction_Control                               0\n",
              "2nd_Road_Class                                 0\n",
              "2nd_Road_Number                                0\n",
              "Pedestrian_Crossing-Human_Control              0\n",
              "Pedestrian_Crossing-Physical_Facilities        0\n",
              "Light_Conditions                               0\n",
              "Weather_Conditions                             0\n",
              "Road_Surface_Conditions                        0\n",
              "Special_Conditions_at_Site                     0\n",
              "Carriageway_Hazards                            0\n",
              "Urban_or_Rural_Area                            0\n",
              "Did_Police_Officer_Attend_Scene_of_Accident    0\n",
              "dtype: int64"
            ]
          },
          "metadata": {},
          "execution_count": 39
        }
      ]
    },
    {
      "cell_type": "code",
      "source": [
        "# convert df1 into csv file\n",
        "df1. to_csv('Accidents_2016.csv')"
      ],
      "metadata": {
        "id": "jQczeAlmCDSt"
      },
      "execution_count": null,
      "outputs": []
    },
    {
      "cell_type": "code",
      "source": [
        "sns.countplot('Accident_Severity', data= Accidents )"
      ],
      "metadata": {
        "colab": {
          "base_uri": "https://localhost:8080/",
          "height": 352
        },
        "id": "HL2b4ClVkxW2",
        "outputId": "7d4aac41-f4b8-43ea-8fab-6a433540f36f"
      },
      "execution_count": 8,
      "outputs": [
        {
          "output_type": "stream",
          "name": "stderr",
          "text": [
            "/usr/local/lib/python3.7/dist-packages/seaborn/_decorators.py:43: FutureWarning: Pass the following variable as a keyword arg: x. From version 0.12, the only valid positional argument will be `data`, and passing other arguments without an explicit keyword will result in an error or misinterpretation.\n",
            "  FutureWarning\n"
          ]
        },
        {
          "output_type": "execute_result",
          "data": {
            "text/plain": [
              "<matplotlib.axes._subplots.AxesSubplot at 0x7fbf1929b110>"
            ]
          },
          "metadata": {},
          "execution_count": 8
        },
        {
          "output_type": "display_data",
          "data": {
            "text/plain": [
              "<Figure size 432x288 with 1 Axes>"
            ],
            "image/png": "[encoded data removed]"
          },
          "metadata": {
            "needs_background": "light"
          }
        }
      ]
    },
    {
      "cell_type": "code",
      "source": [
        " sns.countplot('Accident_Severity', hue = 'Road_Surface_Conditions', data= Accidents )"
      ],
      "metadata": {
        "colab": {
          "base_uri": "https://localhost:8080/",
          "height": 352
        },
        "id": "zQntolualDhG",
        "outputId": "5035a13f-842f-455e-de49-80bf1dddb340"
      },
      "execution_count": 10,
      "outputs": [
        {
          "output_type": "stream",
          "name": "stderr",
          "text": [
            "/usr/local/lib/python3.7/dist-packages/seaborn/_decorators.py:43: FutureWarning: Pass the following variable as a keyword arg: x. From version 0.12, the only valid positional argument will be `data`, and passing other arguments without an explicit keyword will result in an error or misinterpretation.\n",
            "  FutureWarning\n"
          ]
        },
        {
          "output_type": "execute_result",
          "data": {
            "text/plain": [
              "<matplotlib.axes._subplots.AxesSubplot at 0x7fbf18bdf950>"
            ]
          },
          "metadata": {},
          "execution_count": 10
        },
        {
          "output_type": "display_data",
          "data": {
            "text/plain": [
              "<Figure size 432x288 with 1 Axes>"
            ],
            "image/png": "[encoded data removed]"
          },
          "metadata": {
            "needs_background": "light"
          }
        }
      ]
    },
    {
      "cell_type": "code",
      "source": [
        " sns.countplot('Accident_Severity', hue = 'Weather_Conditions', data= Accidents )"
      ],
      "metadata": {
        "colab": {
          "base_uri": "https://localhost:8080/",
          "height": 354
        },
        "id": "VmlNbrmllbcm",
        "outputId": "989eccb8-18a4-4492-88c3-22ddc28088ed"
      },
      "execution_count": 11,
      "outputs": [
        {
          "output_type": "stream",
          "name": "stderr",
          "text": [
            "/usr/local/lib/python3.7/dist-packages/seaborn/_decorators.py:43: FutureWarning: Pass the following variable as a keyword arg: x. From version 0.12, the only valid positional argument will be `data`, and passing other arguments without an explicit keyword will result in an error or misinterpretation.\n",
            "  FutureWarning\n"
          ]
        },
        {
          "output_type": "execute_result",
          "data": {
            "text/plain": [
              "<matplotlib.axes._subplots.AxesSubplot at 0x7fbf18b0f850>"
            ]
          },
          "metadata": {},
          "execution_count": 11
        },
        {
          "output_type": "display_data",
          "data": {
            "text/plain": [
              "<Figure size 432x288 with 1 Axes>"
            ],
            "image/png": "[encoded data removed]"
          },
          "metadata": {
            "needs_background": "light"
          }
        }
      ]
    },
    {
      "cell_type": "code",
      "source": [
        "   sns.countplot('Accident_Severity', hue = 'Light_Conditions', data= Accidents )"
      ],
      "metadata": {
        "colab": {
          "base_uri": "https://localhost:8080/",
          "height": 352
        },
        "id": "xXz-57qqmcps",
        "outputId": "816a5d6d-efaf-4cc7-8760-036172e6d928"
      },
      "execution_count": 12,
      "outputs": [
        {
          "output_type": "stream",
          "name": "stderr",
          "text": [
            "/usr/local/lib/python3.7/dist-packages/seaborn/_decorators.py:43: FutureWarning: Pass the following variable as a keyword arg: x. From version 0.12, the only valid positional argument will be `data`, and passing other arguments without an explicit keyword will result in an error or misinterpretation.\n",
            "  FutureWarning\n"
          ]
        },
        {
          "output_type": "execute_result",
          "data": {
            "text/plain": [
              "<matplotlib.axes._subplots.AxesSubplot at 0x7fbf18a6b550>"
            ]
          },
          "metadata": {},
          "execution_count": 12
        },
        {
          "output_type": "display_data",
          "data": {
            "text/plain": [
              "<Figure size 432x288 with 1 Axes>"
            ],
            "image/png": "[encoded data removed]"
          },
          "metadata": {
            "needs_background": "light"
          }
        }
      ]
    },
    {
      "cell_type": "markdown",
      "source": [
        "This bar chart is between (Y - Number of Accident ,X = Accident Severity (1(Normal) - 3(Very Serious)) and Black represent accident in Urban Area and Orange for Rural Area)"
      ],
      "metadata": {
        "id": "VvYXgzuipfv2"
      }
    },
    {
      "cell_type": "code",
      "source": [
        "    sns.countplot('Accident_Severity', hue = 'Urban_or_Rural_Area', data= Accidents )"
      ],
      "metadata": {
        "colab": {
          "base_uri": "https://localhost:8080/",
          "height": 352
        },
        "id": "kj03uf0_m9QO",
        "outputId": "43adfb65-b3a1-4c56-dd4e-036ab47781e0"
      },
      "execution_count": 13,
      "outputs": [
        {
          "output_type": "stream",
          "name": "stderr",
          "text": [
            "/usr/local/lib/python3.7/dist-packages/seaborn/_decorators.py:43: FutureWarning: Pass the following variable as a keyword arg: x. From version 0.12, the only valid positional argument will be `data`, and passing other arguments without an explicit keyword will result in an error or misinterpretation.\n",
            "  FutureWarning\n"
          ]
        },
        {
          "output_type": "execute_result",
          "data": {
            "text/plain": [
              "<matplotlib.axes._subplots.AxesSubplot at 0x7fbf18a06e90>"
            ]
          },
          "metadata": {},
          "execution_count": 13
        },
        {
          "output_type": "display_data",
          "data": {
            "text/plain": [
              "<Figure size 432x288 with 1 Axes>"
            ],
            "image/png": "[encoded data removed]"
          },
          "metadata": {
            "needs_background": "light"
          }
        }
      ]
    },
    {
      "cell_type": "code",
      "source": [
        "    sns.countplot('Accident_Severity', hue = 'Special_Conditions_at_Site', data= Accidents )\n"
      ],
      "metadata": {
        "colab": {
          "base_uri": "https://localhost:8080/",
          "height": 354
        },
        "id": "7SC3js1vnm4F",
        "outputId": "1e94f8ce-c674-469c-9ae7-dd9dad616333"
      },
      "execution_count": 14,
      "outputs": [
        {
          "output_type": "stream",
          "name": "stderr",
          "text": [
            "/usr/local/lib/python3.7/dist-packages/seaborn/_decorators.py:43: FutureWarning: Pass the following variable as a keyword arg: x. From version 0.12, the only valid positional argument will be `data`, and passing other arguments without an explicit keyword will result in an error or misinterpretation.\n",
            "  FutureWarning\n"
          ]
        },
        {
          "output_type": "execute_result",
          "data": {
            "text/plain": [
              "<matplotlib.axes._subplots.AxesSubplot at 0x7fbf18872690>"
            ]
          },
          "metadata": {},
          "execution_count": 14
        },
        {
          "output_type": "display_data",
          "data": {
            "text/plain": [
              "<Figure size 432x288 with 1 Axes>"
            ],
            "image/png": "[encoded data removed]"
          },
          "metadata": {
            "needs_background": "light"
          }
        }
      ]
    },
    {
      "cell_type": "code",
      "source": [
        "Result = pd.read_csv('/content/uk_accident_result.csv')"
      ],
      "metadata": {
        "id": "GJuMJLZXoVlg"
      },
      "execution_count": 3,
      "outputs": []
    },
    {
      "cell_type": "code",
      "source": [
        "Result.head()"
      ],
      "metadata": {
        "colab": {
          "base_uri": "https://localhost:8080/",
          "height": 206
        },
        "id": "21cyhfdMrv1E",
        "outputId": "13a7f572-8602-4d10-b851-0326c1f568ce"
      },
      "execution_count": 21,
      "outputs": [
        {
          "output_type": "execute_result",
          "data": {
            "text/plain": [
              "  ACCIDENT_INDEX  ACCIDENT_SEVERITY  VEHICLE_CODE  \\\n",
              "0  2016010000005                NaN           8.0   \n",
              "1  2016010000005                NaN           2.0   \n",
              "2  2016010000006                NaN           9.0   \n",
              "3  2016010000008                NaN           9.0   \n",
              "4  2016010000016                NaN          11.0   \n",
              "\n",
              "                           VEHICLE_TYPE  \n",
              "0                 Taxi/Private hire car  \n",
              "1             Motorcycle 50cc and under  \n",
              "2                                   Car  \n",
              "3                                   Car  \n",
              "4  Bus or coach (17 or more pass seats)  "
            ],
            "text/html": [
              "\n",
              "  <div id=\"df-ea23b009-98c7-46e1-a8b9-609e1a610512\">\n",
              "    <div class=\"colab-df-container\">\n",
              "      <div>\n",
              "<style scoped>\n",
              "    .dataframe tbody tr th:only-of-type {\n",
              "        vertical-align: middle;\n",
              "    }\n",
              "\n",
              "    .dataframe tbody tr th {\n",
              "        vertical-align: top;\n",
              "    }\n",
              "\n",
              "    .dataframe thead th {\n",
              "        text-align: right;\n",
              "    }\n",
              "</style>\n",
              "<table border=\"1\" class=\"dataframe\">\n",
              "  <thead>\n",
              "    <tr style=\"text-align: right;\">\n",
              "      <th></th>\n",
              "      <th>ACCIDENT_INDEX</th>\n",
              "      <th>ACCIDENT_SEVERITY</th>\n",
              "      <th>VEHICLE_CODE</th>\n",
              "      <th>VEHICLE_TYPE</th>\n",
              "    </tr>\n",
              "  </thead>\n",
              "  <tbody>\n",
              "    <tr>\n",
              "      <th>0</th>\n",
              "      <td>2016010000005</td>\n",
              "      <td>NaN</td>\n",
              "      <td>8.0</td>\n",
              "      <td>Taxi/Private hire car</td>\n",
              "    </tr>\n",
              "    <tr>\n",
              "      <th>1</th>\n",
              "      <td>2016010000005</td>\n",
              "      <td>NaN</td>\n",
              "      <td>2.0</td>\n",
              "      <td>Motorcycle 50cc and under</td>\n",
              "    </tr>\n",
              "    <tr>\n",
              "      <th>2</th>\n",
              "      <td>2016010000006</td>\n",
              "      <td>NaN</td>\n",
              "      <td>9.0</td>\n",
              "      <td>Car</td>\n",
              "    </tr>\n",
              "    <tr>\n",
              "      <th>3</th>\n",
              "      <td>2016010000008</td>\n",
              "      <td>NaN</td>\n",
              "      <td>9.0</td>\n",
              "      <td>Car</td>\n",
              "    </tr>\n",
              "    <tr>\n",
              "      <th>4</th>\n",
              "      <td>2016010000016</td>\n",
              "      <td>NaN</td>\n",
              "      <td>11.0</td>\n",
              "      <td>Bus or coach (17 or more pass seats)</td>\n",
              "    </tr>\n",
              "  </tbody>\n",
              "</table>\n",
              "</div>\n",
              "      <button class=\"colab-df-convert\" onclick=\"convertToInteractive('df-ea23b009-98c7-46e1-a8b9-609e1a610512')\"\n",
              "              title=\"Convert this dataframe to an interactive table.\"\n",
              "              style=\"display:none;\">\n",
              "        \n",
              "  <svg xmlns=\"http://www.w3.org/2000/svg\" height=\"24px\"viewBox=\"0 0 24 24\"\n",
              "       width=\"24px\">\n",
              "    <path d=\"M0 0h24v24H0V0z\" fill=\"none\"/>\n",
              "    <path d=\"M18.56 5.44l.94 2.06.94-2.06 2.06-.94-2.06-.94-.94-2.06-.94 2.06-2.06.94zm-11 1L8.5 8.5l.94-2.06 2.06-.94-2.06-.94L8.5 2.5l-.94 2.06-2.06.94zm10 10l.94 2.06.94-2.06 2.06-.94-2.06-.94-.94-2.06-.94 2.06-2.06.94z\"/><path d=\"M17.41 7.96l-1.37-1.37c-.4-.4-.92-.59-1.43-.59-.52 0-1.04.2-1.43.59L10.3 9.45l-7.72 7.72c-.78.78-.78 2.05 0 2.83L4 21.41c.39.39.9.59 1.41.59.51 0 1.02-.2 1.41-.59l7.78-7.78 2.81-2.81c.8-.78.8-2.07 0-2.86zM5.41 20L4 18.59l7.72-7.72 1.47 1.35L5.41 20z\"/>\n",
              "  </svg>\n",
              "      </button>\n",
              "      \n",
              "  <style>\n",
              "    .colab-df-container {\n",
              "      display:flex;\n",
              "      flex-wrap:wrap;\n",
              "      gap: 12px;\n",
              "    }\n",
              "\n",
              "    .colab-df-convert {\n",
              "      background-color: #E8F0FE;\n",
              "      border: none;\n",
              "      border-radius: 50%;\n",
              "      cursor: pointer;\n",
              "      display: none;\n",
              "      fill: #1967D2;\n",
              "      height: 32px;\n",
              "      padding: 0 0 0 0;\n",
              "      width: 32px;\n",
              "    }\n",
              "\n",
              "    .colab-df-convert:hover {\n",
              "      background-color: #E2EBFA;\n",
              "      box-shadow: 0px 1px 2px rgba(60, 64, 67, 0.3), 0px 1px 3px 1px rgba(60, 64, 67, 0.15);\n",
              "      fill: #174EA6;\n",
              "    }\n",
              "\n",
              "    [theme=dark] .colab-df-convert {\n",
              "      background-color: #3B4455;\n",
              "      fill: #D2E3FC;\n",
              "    }\n",
              "\n",
              "    [theme=dark] .colab-df-convert:hover {\n",
              "      background-color: #434B5C;\n",
              "      box-shadow: 0px 1px 3px 1px rgba(0, 0, 0, 0.15);\n",
              "      filter: drop-shadow(0px 1px 2px rgba(0, 0, 0, 0.3));\n",
              "      fill: #FFFFFF;\n",
              "    }\n",
              "  </style>\n",
              "\n",
              "      <script>\n",
              "        const buttonEl =\n",
              "          document.querySelector('#df-ea23b009-98c7-46e1-a8b9-609e1a610512 button.colab-df-convert');\n",
              "        buttonEl.style.display =\n",
              "          google.colab.kernel.accessAllowed ? 'block' : 'none';\n",
              "\n",
              "        async function convertToInteractive(key) {\n",
              "          const element = document.querySelector('#df-ea23b009-98c7-46e1-a8b9-609e1a610512');\n",
              "          const dataTable =\n",
              "            await google.colab.kernel.invokeFunction('convertToInteractive',\n",
              "                                                     [key], {});\n",
              "          if (!dataTable) return;\n",
              "\n",
              "          const docLinkHtml = 'Like what you see? Visit the ' +\n",
              "            '<a target=\"_blank\" href=https://colab.research.google.com/notebooks/data_table.ipynb>data table notebook</a>'\n",
              "            + ' to learn more about interactive tables.';\n",
              "          element.innerHTML = '';\n",
              "          dataTable['output_type'] = 'display_data';\n",
              "          await google.colab.output.renderOutput(dataTable, element);\n",
              "          const docLink = document.createElement('div');\n",
              "          docLink.innerHTML = docLinkHtml;\n",
              "          element.appendChild(docLink);\n",
              "        }\n",
              "      </script>\n",
              "    </div>\n",
              "  </div>\n",
              "  "
            ]
          },
          "metadata": {},
          "execution_count": 21
        }
      ]
    },
    {
      "cell_type": "code",
      "source": [
        "Result['ACCIDENT_SEVERITY'].dropna(inplace = True)"
      ],
      "metadata": {
        "id": "g1lCW2Pkqs8K"
      },
      "execution_count": 7,
      "outputs": []
    },
    {
      "cell_type": "markdown",
      "source": [
        "Bar Graph b/w y-axis(top 5 vehicles_type) and x-axis(number of accidents )"
      ],
      "metadata": {
        "id": "hmZS4Sd9FP1o"
      }
    },
    {
      "cell_type": "code",
      "source": [
        "sns.countplot(y='VEHICLE_TYPE',  data= Result ,order=Result.VEHICLE_TYPE.value_counts().iloc[:5].index)"
      ],
      "metadata": {
        "colab": {
          "base_uri": "https://localhost:8080/",
          "height": 296
        },
        "id": "TlCVgghOr1Ma",
        "outputId": "45461992-1af3-4718-bb3b-17b5b40e6149"
      },
      "execution_count": 20,
      "outputs": [
        {
          "output_type": "execute_result",
          "data": {
            "text/plain": [
              "<matplotlib.axes._subplots.AxesSubplot at 0x7f8c2a0ba510>"
            ]
          },
          "metadata": {},
          "execution_count": 20
        },
        {
          "output_type": "display_data",
          "data": {
            "text/plain": [
              "<Figure size 432x288 with 1 Axes>"
            ],
            "image/png": "[encoded data removed]"
          },
          "metadata": {
            "needs_background": "light"
          }
        }
      ]
    },
    {
      "cell_type": "markdown",
      "source": [
        "Bar Graph b/w y-axis(bottom 5 vehicles_type-(in number)) and x-axis(number of accidents )"
      ],
      "metadata": {
        "id": "-mdtiUlfF6Xv"
      }
    },
    {
      "cell_type": "code",
      "source": [
        "sns.countplot(y='VEHICLE_TYPE', data= Result ,order=Result.VEHICLE_TYPE.value_counts().iloc[-5:].index)"
      ],
      "metadata": {
        "colab": {
          "base_uri": "https://localhost:8080/",
          "height": 296
        },
        "id": "b_N9UYbOsftK",
        "outputId": "0e472454-7f86-4feb-fbf2-e412d745f926"
      },
      "execution_count": 21,
      "outputs": [
        {
          "output_type": "execute_result",
          "data": {
            "text/plain": [
              "<matplotlib.axes._subplots.AxesSubplot at 0x7f8c2a0ac390>"
            ]
          },
          "metadata": {},
          "execution_count": 21
        },
        {
          "output_type": "display_data",
          "data": {
            "text/plain": [
              "<Figure size 432x288 with 1 Axes>"
            ],
            "image/png": "[encoded data removed]"
          },
          "metadata": {
            "needs_background": "light"
          }
        }
      ]
    },
    {
      "cell_type": "markdown",
      "source": [
        "Bar Graph b/w y-axis(Number of Accident) and x-axis(Sex of driver = 1-Female , 2-Male,3-Transgender )"
      ],
      "metadata": {
        "id": "eyO8tKeXLIcr"
      }
    },
    {
      "cell_type": "code",
      "source": [
        "sns.countplot('Sex_of_Driver', data= vehicles)"
      ],
      "metadata": {
        "colab": {
          "base_uri": "https://localhost:8080/",
          "height": 352
        },
        "id": "WyFEY_yiKCcW",
        "outputId": "be7b783d-88fd-4924-8dd9-213b627bf94a"
      },
      "execution_count": 27,
      "outputs": [
        {
          "output_type": "stream",
          "name": "stderr",
          "text": [
            "/usr/local/lib/python3.7/dist-packages/seaborn/_decorators.py:43: FutureWarning: Pass the following variable as a keyword arg: x. From version 0.12, the only valid positional argument will be `data`, and passing other arguments without an explicit keyword will result in an error or misinterpretation.\n",
            "  FutureWarning\n"
          ]
        },
        {
          "output_type": "execute_result",
          "data": {
            "text/plain": [
              "<matplotlib.axes._subplots.AxesSubplot at 0x7f8c296c3690>"
            ]
          },
          "metadata": {},
          "execution_count": 27
        },
        {
          "output_type": "display_data",
          "data": {
            "text/plain": [
              "<Figure size 432x288 with 1 Axes>"
            ],
            "image/png": "[encoded data removed]"
          },
          "metadata": {
            "needs_background": "light"
          }
        }
      ]
    },
    {
      "cell_type": "markdown",
      "source": [
        "Bar Graph b/w y-axis(Number of Accident) and x-axis(Location of junction )"
      ],
      "metadata": {
        "id": "sbr-bqg_LZeZ"
      }
    },
    {
      "cell_type": "code",
      "source": [
        " sns.countplot('Junction_Location', data= vehicles)"
      ],
      "metadata": {
        "colab": {
          "base_uri": "https://localhost:8080/",
          "height": 352
        },
        "id": "Pc36BMFLKjT0",
        "outputId": "4b4b46a7-052e-4f48-b571-9097bd8a84d5"
      },
      "execution_count": 28,
      "outputs": [
        {
          "output_type": "stream",
          "name": "stderr",
          "text": [
            "/usr/local/lib/python3.7/dist-packages/seaborn/_decorators.py:43: FutureWarning: Pass the following variable as a keyword arg: x. From version 0.12, the only valid positional argument will be `data`, and passing other arguments without an explicit keyword will result in an error or misinterpretation.\n",
            "  FutureWarning\n"
          ]
        },
        {
          "output_type": "execute_result",
          "data": {
            "text/plain": [
              "<matplotlib.axes._subplots.AxesSubplot at 0x7f8c296378d0>"
            ]
          },
          "metadata": {},
          "execution_count": 28
        },
        {
          "output_type": "display_data",
          "data": {
            "text/plain": [
              "<Figure size 432x288 with 1 Axes>"
            ],
            "image/png": "[encoded data removed]"
          },
          "metadata": {
            "needs_background": "light"
          }
        }
      ]
    },
    {
      "cell_type": "markdown",
      "source": [
        "**Meaningful Insights**\n",
        "- Maximum Number of Accidents was in Urban Area\n",
        "- Most of the accidents were in maximum Sever condition\n",
        "- Maximum number of accidents caused due to  Car and lest    accidents caused due to Train.\n",
        "- Wather condition and Road surface situtation was not the reason of accident.\n",
        "- Sex of drive was Female in maximum accidents in comparison to other gender.\n",
        "- Maximum accident occur at 0 Location of Junction"
      ],
      "metadata": {
        "id": "XiRA0U7QGMIG"
      }
    }
  ]
}